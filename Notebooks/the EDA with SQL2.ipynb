{
    "cells": [
        {
            "metadata": {},
            "id": "62f5e5fc-c21f-4a5b-8e79-5ad7c2c32331",
            "cell_type": "markdown",
            "source": "<p style=\"text-align:center\">\n    <a href=\"https://skills.network/?utm_medium=Exinfluencer&utm_source=Exinfluencer&utm_content=000026UJ&utm_term=10006555&utm_id=NA-SkillsNetwork-Channel-SkillsNetworkCoursesIBMDS0321ENSkillsNetwork865-2022-01-01\" target=\"_blank\">\n    <img src=\"https://cf-courses-data.s3.us.cloud-object-storage.appdomain.cloud/assets/logos/SN_web_lightmode.png\" width=\"200\" alt=\"Skills Network Logo\"  />\n    </a>\n</p>\n\n<h1 align=center><font size = 5>Assignment: SQL Notebook for Peer Assignment</font></h1>\n\nEstimated time needed: **60** minutes.\n\n## Introduction\nUsing this Python notebook you will:\n\n1.  Understand the Spacex DataSet\n2.  Load the dataset  into the corresponding table in a Db2 database\n3.  Execute SQL queries to answer assignment questions \n"
        },
        {
            "metadata": {},
            "id": "28b87e78-66b4-42a6-bc76-a8c3e9122b81",
            "cell_type": "markdown",
            "source": "## Overview of the DataSet\n\nSpaceX has gained worldwide attention for a series of historic milestones. \n\nIt is the only private company ever to return a spacecraft from low-earth orbit, which it first accomplished in December 2010.\nSpaceX advertises Falcon 9 rocket launches on its website with a cost of 62 million dollars wheras other providers cost upward of 165 million dollars each, much of the savings is because Space X can reuse the first stage. \n\n\nTherefore if we can determine if the first stage will land, we can determine the cost of a launch. \n\nThis information can be used if an alternate company wants to bid against SpaceX for a rocket launch.\n\nThis dataset includes a record for each payload carried during a SpaceX mission into outer space.\n"
        },
        {
            "metadata": {},
            "id": "ffe8c135-38dc-4e01-9956-5f5bc504f285",
            "cell_type": "markdown",
            "source": "### Download the datasets\n\nThis assignment requires you to load the spacex dataset.\n\nIn many cases the dataset to be analyzed is available as a .CSV (comma separated values) file, perhaps on the internet. Click on the link below to download and save the dataset (.CSV file):\n\n <a href=\"https://cf-courses-data.s3.us.cloud-object-storage.appdomain.cloud/IBM-DS0321EN-SkillsNetwork/labs/module_2/data/Spacex.csv\" target=\"_blank\">Spacex DataSet</a>\n\n"
        },
        {
            "metadata": {},
            "id": "c00de771-8c83-4dc5-8592-fa6178faeeae",
            "cell_type": "code",
            "source": "!pip install sqlalchemy==1.3.9\n",
            "execution_count": 2,
            "outputs": [
                {
                    "output_type": "stream",
                    "text": "Requirement already satisfied: sqlalchemy==1.3.9 in /opt/conda/envs/Python-3.10/lib/python3.10/site-packages (1.3.9)\r\n",
                    "name": "stdout"
                }
            ]
        },
        {
            "metadata": {},
            "id": "21bfcb4f-176e-40d8-a398-4de8fd56d2f3",
            "cell_type": "markdown",
            "source": "### Connect to the database\n\nLet us first load the SQL extension and establish a connection with the database\n"
        },
        {
            "metadata": {},
            "id": "fcb6ec57-e566-49bc-921f-83c4fa2046d0",
            "cell_type": "code",
            "source": "%load_ext sql",
            "execution_count": 2,
            "outputs": []
        },
        {
            "metadata": {},
            "id": "6e472564-b81a-4ab7-9f81-8a887f99e46f",
            "cell_type": "code",
            "source": "import csv, sqlite3\n\ncon = sqlite3.connect(\"my_data1.db\")\ncur = con.cursor()",
            "execution_count": 5,
            "outputs": []
        },
        {
            "metadata": {},
            "id": "a39f4990-90f3-4b4b-bc2c-c2c7f031e355",
            "cell_type": "code",
            "source": "!pip install -q pandas==1.1.5",
            "execution_count": 5,
            "outputs": []
        },
        {
            "metadata": {},
            "id": "6c405952-7668-42cd-8f1d-359b527d0575",
            "cell_type": "code",
            "source": "%sql ibm_db_sa://mbw49162:YjWxA1T5ZXTXkRXx@21fecfd8-47b7-4937-840d-d791d0218660.bs2io90l08kqb1od8lcg.databases.appdomain.cloud:31864/BLUDB?security=SSL",
            "execution_count": 9,
            "outputs": []
        },
        {
            "metadata": {},
            "id": "2717bc34-beac-4bd7-a89e-c4a41e8157f8",
            "cell_type": "code",
            "source": "import pandas as pd\ndf = pd.read_csv(\"https://cf-courses-data.s3.us.cloud-object-storage.appdomain.cloud/IBM-DS0321EN-SkillsNetwork/labs/module_2/data/Spacex.csv\")\ndf.to_sql(\"SPACEXTBL\", con, if_exists='replace', index=False,method=\"multi\")",
            "execution_count": 6,
            "outputs": [
                {
                    "output_type": "stream",
                    "text": "/opt/conda/envs/Python-3.10/lib/python3.10/site-packages/pandas/core/generic.py:2605: UserWarning: The spaces in these column names will not be changed. In pandas versions < 0.14, spaces were converted to underscores.\n  sql.to_sql(\n",
                    "name": "stderr"
                }
            ]
        },
        {
            "metadata": {},
            "id": "aeb3df77-52db-4f77-90a0-bbf6760b1125",
            "cell_type": "markdown",
            "source": "## Tasks\n\nNow write and execute SQL queries to solve the assignment tasks.\n\n**Note: If the column names are in mixed case enclose it in double quotes\n   For Example \"Landing_Outcome\"**\n\n### Task 1\n\n\n\n\n##### Display the names of the unique launch sites  in the space mission\n"
        },
        {
            "metadata": {},
            "id": "064f242f-3e91-4990-9f3c-131f1f60cec3",
            "cell_type": "code",
            "source": "%sql SELECT DISTINCT LAUNCH_SITE FROM SPACEX ORDER BY 1;",
            "execution_count": 34,
            "outputs": [
                {
                    "output_type": "stream",
                    "text": " * ibm_db_sa://mbw49162:***@21fecfd8-47b7-4937-840d-d791d0218660.bs2io90l08kqb1od8lcg.databases.appdomain.cloud:31864/BLUDB\nDone.\n",
                    "name": "stdout"
                },
                {
                    "output_type": "execute_result",
                    "execution_count": 34,
                    "data": {
                        "text/plain": "[('CCAFS LC-40',), ('CCAFS SLC-40',), ('KSC LC-39A',), ('VAFB SLC-4E',)]",
                        "text/html": "<table>\n    <tr>\n        <th>launch_site</th>\n    </tr>\n    <tr>\n        <td>CCAFS LC-40</td>\n    </tr>\n    <tr>\n        <td>CCAFS SLC-40</td>\n    </tr>\n    <tr>\n        <td>KSC LC-39A</td>\n    </tr>\n    <tr>\n        <td>VAFB SLC-4E</td>\n    </tr>\n</table>"
                    },
                    "metadata": {}
                }
            ]
        },
        {
            "metadata": {},
            "id": "6ad3ca6d-02c4-47cc-bcb6-b2f375e29f14",
            "cell_type": "markdown",
            "source": "\n### Task 2\n\n\n#####  Display 5 records where launch sites begin with the string 'CCA' \n"
        },
        {
            "metadata": {},
            "id": "c8b96954-f622-40f1-afa5-d242dd0151b4",
            "cell_type": "code",
            "source": "%sql SELECT * FROM SPACEX WHERE LAUNCH_SITE LIKE 'CCA%' LIMIT 5;",
            "execution_count": 33,
            "outputs": [
                {
                    "output_type": "stream",
                    "text": " * ibm_db_sa://mbw49162:***@21fecfd8-47b7-4937-840d-d791d0218660.bs2io90l08kqb1od8lcg.databases.appdomain.cloud:31864/BLUDB\nDone.\n",
                    "name": "stdout"
                },
                {
                    "output_type": "execute_result",
                    "execution_count": 33,
                    "data": {
                        "text/plain": "[(datetime.date(2010, 6, 4), '18:45:00', 'F9 v1.0  B0003', 'CCAFS LC-40', 'Dragon Spacecraft Qualification Unit', 0, 'LEO', 'SpaceX', 'Success', 'Failure (parachute)'),\n (datetime.date(2010, 12, 8), '15:43:00', 'F9 v1.0  B0004', 'CCAFS LC-40', 'Dragon demo flight C1, two CubeSats, barrel of Brouere cheese', 0, 'LEO (ISS)', 'NASA (COTS) NRO', 'Success', 'Failure (parachute)'),\n (datetime.date(2012, 5, 22), '7:44:00', 'F9 v1.0  B0005', 'CCAFS LC-40', 'Dragon demo flight C2', 525, 'LEO (ISS)', 'NASA (COTS)', 'Success', 'No attempt'),\n (datetime.date(2012, 10, 8), '0:35:00', 'F9 v1.0  B0006', 'CCAFS LC-40', 'SpaceX CRS-1', 500, 'LEO (ISS)', 'NASA (CRS)', 'Success', 'No attempt'),\n (datetime.date(2013, 3, 1), '15:10:00', 'F9 v1.0  B0007', 'CCAFS LC-40', 'SpaceX CRS-2', 677, 'LEO (ISS)', 'NASA (CRS)', 'Success', 'No attempt')]",
                        "text/html": "<table>\n    <tr>\n        <th>DATE</th>\n        <th>time_utc</th>\n        <th>booster_version</th>\n        <th>launch_site</th>\n        <th>payload</th>\n        <th>payload_mass_kg_</th>\n        <th>orbit</th>\n        <th>customer</th>\n        <th>mission_outcome</th>\n        <th>landing_outcome</th>\n    </tr>\n    <tr>\n        <td>2010-06-04</td>\n        <td>18:45:00</td>\n        <td>F9 v1.0  B0003</td>\n        <td>CCAFS LC-40</td>\n        <td>Dragon Spacecraft Qualification Unit</td>\n        <td>0</td>\n        <td>LEO</td>\n        <td>SpaceX</td>\n        <td>Success</td>\n        <td>Failure (parachute)</td>\n    </tr>\n    <tr>\n        <td>2010-12-08</td>\n        <td>15:43:00</td>\n        <td>F9 v1.0  B0004</td>\n        <td>CCAFS LC-40</td>\n        <td>Dragon demo flight C1, two CubeSats, barrel of Brouere cheese</td>\n        <td>0</td>\n        <td>LEO (ISS)</td>\n        <td>NASA (COTS) NRO</td>\n        <td>Success</td>\n        <td>Failure (parachute)</td>\n    </tr>\n    <tr>\n        <td>2012-05-22</td>\n        <td>7:44:00</td>\n        <td>F9 v1.0  B0005</td>\n        <td>CCAFS LC-40</td>\n        <td>Dragon demo flight C2</td>\n        <td>525</td>\n        <td>LEO (ISS)</td>\n        <td>NASA (COTS)</td>\n        <td>Success</td>\n        <td>No attempt</td>\n    </tr>\n    <tr>\n        <td>2012-10-08</td>\n        <td>0:35:00</td>\n        <td>F9 v1.0  B0006</td>\n        <td>CCAFS LC-40</td>\n        <td>SpaceX CRS-1</td>\n        <td>500</td>\n        <td>LEO (ISS)</td>\n        <td>NASA (CRS)</td>\n        <td>Success</td>\n        <td>No attempt</td>\n    </tr>\n    <tr>\n        <td>2013-03-01</td>\n        <td>15:10:00</td>\n        <td>F9 v1.0  B0007</td>\n        <td>CCAFS LC-40</td>\n        <td>SpaceX CRS-2</td>\n        <td>677</td>\n        <td>LEO (ISS)</td>\n        <td>NASA (CRS)</td>\n        <td>Success</td>\n        <td>No attempt</td>\n    </tr>\n</table>"
                    },
                    "metadata": {}
                }
            ]
        },
        {
            "metadata": {},
            "id": "a1245fe9-e9c7-4d3f-8e39-5f0763511ab0",
            "cell_type": "markdown",
            "source": "### Task 3\n\n\n\n\n##### Display the total payload mass carried by boosters launched by NASA (CRS)\n"
        },
        {
            "metadata": {},
            "id": "bca5e349-bd05-4ace-b1c8-9eeea1b46a32",
            "cell_type": "code",
            "source": "%sql SELECT SUM (payload_mass_kg_) FROM SPACEX WHERE CUSTOMER='NASA (CRS)'",
            "execution_count": 32,
            "outputs": [
                {
                    "output_type": "stream",
                    "text": " * ibm_db_sa://mbw49162:***@21fecfd8-47b7-4937-840d-d791d0218660.bs2io90l08kqb1od8lcg.databases.appdomain.cloud:31864/BLUDB\nDone.\n",
                    "name": "stdout"
                },
                {
                    "output_type": "execute_result",
                    "execution_count": 32,
                    "data": {
                        "text/plain": "[(45596,)]",
                        "text/html": "<table>\n    <tr>\n        <th>1</th>\n    </tr>\n    <tr>\n        <td>45596</td>\n    </tr>\n</table>"
                    },
                    "metadata": {}
                }
            ]
        },
        {
            "metadata": {},
            "id": "68009afe-0c04-408b-a3ea-fccb5a4c2a85",
            "cell_type": "markdown",
            "source": "### Task 4\n\n\n\n\n##### Display average payload mass carried by booster version F9 v1.1\n"
        },
        {
            "metadata": {},
            "id": "c9ab7fe6-b18c-4a77-86b2-61c398c58c43",
            "cell_type": "code",
            "source": "%sql SELECT AVG(payload_mass_kg_) FROM SPACEX WHERE booster_version LIKE 'F9 v1.1%'",
            "execution_count": 31,
            "outputs": [
                {
                    "output_type": "stream",
                    "text": " * ibm_db_sa://mbw49162:***@21fecfd8-47b7-4937-840d-d791d0218660.bs2io90l08kqb1od8lcg.databases.appdomain.cloud:31864/BLUDB\nDone.\n",
                    "name": "stdout"
                },
                {
                    "output_type": "execute_result",
                    "execution_count": 31,
                    "data": {
                        "text/plain": "[(2534,)]",
                        "text/html": "<table>\n    <tr>\n        <th>1</th>\n    </tr>\n    <tr>\n        <td>2534</td>\n    </tr>\n</table>"
                    },
                    "metadata": {}
                }
            ]
        },
        {
            "metadata": {},
            "id": "daf51f8c-68ab-4bec-9e00-f0816f7afe69",
            "cell_type": "markdown",
            "source": "### Task 5\n\n##### List the date when the first succesful landing outcome in ground pad was acheived.\n\n\n_Hint:Use min function_ \n"
        },
        {
            "metadata": {},
            "id": "ccb7b534-8ad1-47d4-ad4f-fa0d44cb7d7f",
            "cell_type": "code",
            "source": "%sql SELECT MIN(DATE) FROM SPACEX WHERE landing_outcome = 'Success (ground pad)';",
            "execution_count": 29,
            "outputs": [
                {
                    "output_type": "stream",
                    "text": " * ibm_db_sa://mbw49162:***@21fecfd8-47b7-4937-840d-d791d0218660.bs2io90l08kqb1od8lcg.databases.appdomain.cloud:31864/BLUDB\nDone.\n",
                    "name": "stdout"
                },
                {
                    "output_type": "execute_result",
                    "execution_count": 29,
                    "data": {
                        "text/plain": "[(datetime.date(2015, 12, 22),)]",
                        "text/html": "<table>\n    <tr>\n        <th>1</th>\n    </tr>\n    <tr>\n        <td>2015-12-22</td>\n    </tr>\n</table>"
                    },
                    "metadata": {}
                }
            ]
        },
        {
            "metadata": {},
            "id": "f3b0a30d-0c0e-4438-8ec8-94ff0bfa6241",
            "cell_type": "markdown",
            "source": "### Task 6\n\n##### List the names of the boosters which have success in drone ship and have payload mass greater than 4000 but less than 6000\n"
        },
        {
            "metadata": {},
            "id": "a8a46f10-b7c2-4c2c-836a-21e9289107c5",
            "cell_type": "code",
            "source": "%sql SELECT DISTINCT booster_version FROM SPACEX WHERE payload_mass_kg_ BETWEEN 4000 AND 6000 AND landing_outcome = 'Success (drone ship)';",
            "execution_count": 42,
            "outputs": [
                {
                    "output_type": "stream",
                    "text": " * ibm_db_sa://mbw49162:***@21fecfd8-47b7-4937-840d-d791d0218660.bs2io90l08kqb1od8lcg.databases.appdomain.cloud:31864/BLUDB\nDone.\n",
                    "name": "stdout"
                },
                {
                    "output_type": "execute_result",
                    "execution_count": 42,
                    "data": {
                        "text/plain": "[('F9 FT  B1021.2',), ('F9 FT  B1031.2',), ('F9 FT B1022',), ('F9 FT B1026',)]",
                        "text/html": "<table>\n    <tr>\n        <th>booster_version</th>\n    </tr>\n    <tr>\n        <td>F9 FT  B1021.2</td>\n    </tr>\n    <tr>\n        <td>F9 FT  B1031.2</td>\n    </tr>\n    <tr>\n        <td>F9 FT B1022</td>\n    </tr>\n    <tr>\n        <td>F9 FT B1026</td>\n    </tr>\n</table>"
                    },
                    "metadata": {}
                }
            ]
        },
        {
            "metadata": {},
            "id": "3b2e99ee-3df2-4059-93fd-0397c93e87a1",
            "cell_type": "markdown",
            "source": "### Task 7\n\n\n\n\n##### List the total number of successful and failure mission outcomes\n"
        },
        {
            "metadata": {},
            "id": "33a28c37-4c70-4a2f-a863-c711e5685b29",
            "cell_type": "code",
            "source": "%sql SELECT mission_outcome, COUNT(*) FROM SPACEX GROUP BY mission_outcome",
            "execution_count": 41,
            "outputs": [
                {
                    "output_type": "stream",
                    "text": " * ibm_db_sa://mbw49162:***@21fecfd8-47b7-4937-840d-d791d0218660.bs2io90l08kqb1od8lcg.databases.appdomain.cloud:31864/BLUDB\nDone.\n",
                    "name": "stdout"
                },
                {
                    "output_type": "execute_result",
                    "execution_count": 41,
                    "data": {
                        "text/plain": "[('Failure (in flight)', 1),\n ('Success', 99),\n ('Success (payload status unclear)', 1)]",
                        "text/html": "<table>\n    <tr>\n        <th>mission_outcome</th>\n        <th>2</th>\n    </tr>\n    <tr>\n        <td>Failure (in flight)</td>\n        <td>1</td>\n    </tr>\n    <tr>\n        <td>Success</td>\n        <td>99</td>\n    </tr>\n    <tr>\n        <td>Success (payload status unclear)</td>\n        <td>1</td>\n    </tr>\n</table>"
                    },
                    "metadata": {}
                }
            ]
        },
        {
            "metadata": {},
            "id": "660e7f9f-6936-4b84-b419-ca94c04f99e2",
            "cell_type": "markdown",
            "source": "### Task 8\n\n\n\n##### List the   names of the booster_versions which have carried the maximum payload mass. Use a subquery\n"
        },
        {
            "metadata": {},
            "id": "c3d08631-cbc4-42f1-aa3a-d68e2edad72c",
            "cell_type": "code",
            "source": "%sql SELECT booster_version,payload_mass_kg_ FROM SPACEX WHERE payload_mass_kg_ = (SELECT MAX(payload_mass_kg_) FROM SPACEX)",
            "execution_count": 43,
            "outputs": [
                {
                    "output_type": "stream",
                    "text": " * ibm_db_sa://mbw49162:***@21fecfd8-47b7-4937-840d-d791d0218660.bs2io90l08kqb1od8lcg.databases.appdomain.cloud:31864/BLUDB\nDone.\n",
                    "name": "stdout"
                },
                {
                    "output_type": "execute_result",
                    "execution_count": 43,
                    "data": {
                        "text/plain": "[('F9 B5 B1048.4', 15600),\n ('F9 B5 B1049.4', 15600),\n ('F9 B5 B1051.3', 15600),\n ('F9 B5 B1056.4', 15600),\n ('F9 B5 B1048.5', 15600),\n ('F9 B5 B1051.4', 15600),\n ('F9 B5 B1049.5', 15600),\n ('F9 B5 B1060.2', 15600),\n ('F9 B5 B1058.3', 15600),\n ('F9 B5 B1051.6', 15600),\n ('F9 B5 B1060.3', 15600),\n ('F9 B5 B1049.7', 15600)]",
                        "text/html": "<table>\n    <tr>\n        <th>booster_version</th>\n        <th>payload_mass_kg_</th>\n    </tr>\n    <tr>\n        <td>F9 B5 B1048.4</td>\n        <td>15600</td>\n    </tr>\n    <tr>\n        <td>F9 B5 B1049.4</td>\n        <td>15600</td>\n    </tr>\n    <tr>\n        <td>F9 B5 B1051.3</td>\n        <td>15600</td>\n    </tr>\n    <tr>\n        <td>F9 B5 B1056.4</td>\n        <td>15600</td>\n    </tr>\n    <tr>\n        <td>F9 B5 B1048.5</td>\n        <td>15600</td>\n    </tr>\n    <tr>\n        <td>F9 B5 B1051.4</td>\n        <td>15600</td>\n    </tr>\n    <tr>\n        <td>F9 B5 B1049.5</td>\n        <td>15600</td>\n    </tr>\n    <tr>\n        <td>F9 B5 B1060.2</td>\n        <td>15600</td>\n    </tr>\n    <tr>\n        <td>F9 B5 B1058.3</td>\n        <td>15600</td>\n    </tr>\n    <tr>\n        <td>F9 B5 B1051.6</td>\n        <td>15600</td>\n    </tr>\n    <tr>\n        <td>F9 B5 B1060.3</td>\n        <td>15600</td>\n    </tr>\n    <tr>\n        <td>F9 B5 B1049.7</td>\n        <td>15600</td>\n    </tr>\n</table>"
                    },
                    "metadata": {}
                }
            ]
        },
        {
            "metadata": {},
            "id": "008f7c68-5946-43c4-9945-1a45e603eb35",
            "cell_type": "markdown",
            "source": "### Task 9\n\n\n##### List the records which will display the month names, failure landing_outcomes in drone ship ,booster versions, launch_site for the months in year 2015.\n\n**Note: SQLLite does not support monthnames. So you need to use  substr(Date, 4, 2) as month to get the months and substr(Date,7,4)='2015' for year.**\n"
        },
        {
            "metadata": {},
            "id": "66c15b1b-da4b-4951-8d7c-ac8df75836fc",
            "cell_type": "code",
            "source": "%sql SELECT booster_version, launch_site\t FROM SPACEX WHERE landing_outcome='Failure (drone ship)' AND DATE LIKE '2015%';",
            "execution_count": 49,
            "outputs": [
                {
                    "output_type": "stream",
                    "text": " * ibm_db_sa://mbw49162:***@21fecfd8-47b7-4937-840d-d791d0218660.bs2io90l08kqb1od8lcg.databases.appdomain.cloud:31864/BLUDB\nDone.\n",
                    "name": "stdout"
                },
                {
                    "output_type": "execute_result",
                    "execution_count": 49,
                    "data": {
                        "text/plain": "[('F9 v1.1 B1012', 'CCAFS LC-40'), ('F9 v1.1 B1015', 'CCAFS LC-40')]",
                        "text/html": "<table>\n    <tr>\n        <th>booster_version</th>\n        <th>launch_site</th>\n    </tr>\n    <tr>\n        <td>F9 v1.1 B1012</td>\n        <td>CCAFS LC-40</td>\n    </tr>\n    <tr>\n        <td>F9 v1.1 B1015</td>\n        <td>CCAFS LC-40</td>\n    </tr>\n</table>"
                    },
                    "metadata": {}
                }
            ]
        },
        {
            "metadata": {},
            "id": "930a3560-cc1c-4587-866a-7bde5982c648",
            "cell_type": "markdown",
            "source": "### Task 10\n\n\n\n\n##### Rank the  count of  successful landing_outcomes between the date 04-06-2010 and 20-03-2017 in descending order.\n"
        },
        {
            "metadata": {},
            "id": "d876bcee-cb59-42c0-a747-95560ef3f892",
            "cell_type": "code",
            "source": "%sql SELECT landing_outcome, COUNT(*) AS qty FROM SPACEX WHERE DATE BETWEEN '2010-06-04' AND '2017-03-20' GROUP BY landing_outcome ORDER BY qty DESC;",
            "execution_count": 48,
            "outputs": [
                {
                    "output_type": "stream",
                    "text": " * ibm_db_sa://mbw49162:***@21fecfd8-47b7-4937-840d-d791d0218660.bs2io90l08kqb1od8lcg.databases.appdomain.cloud:31864/BLUDB\nDone.\n",
                    "name": "stdout"
                },
                {
                    "output_type": "execute_result",
                    "execution_count": 48,
                    "data": {
                        "text/plain": "[('No attempt', 10),\n ('Failure (drone ship)', 5),\n ('Success (drone ship)', 5),\n ('Controlled (ocean)', 3),\n ('Success (ground pad)', 3),\n ('Failure (parachute)', 2),\n ('Uncontrolled (ocean)', 2),\n ('Precluded (drone ship)', 1)]",
                        "text/html": "<table>\n    <tr>\n        <th>landing_outcome</th>\n        <th>qty</th>\n    </tr>\n    <tr>\n        <td>No attempt</td>\n        <td>10</td>\n    </tr>\n    <tr>\n        <td>Failure (drone ship)</td>\n        <td>5</td>\n    </tr>\n    <tr>\n        <td>Success (drone ship)</td>\n        <td>5</td>\n    </tr>\n    <tr>\n        <td>Controlled (ocean)</td>\n        <td>3</td>\n    </tr>\n    <tr>\n        <td>Success (ground pad)</td>\n        <td>3</td>\n    </tr>\n    <tr>\n        <td>Failure (parachute)</td>\n        <td>2</td>\n    </tr>\n    <tr>\n        <td>Uncontrolled (ocean)</td>\n        <td>2</td>\n    </tr>\n    <tr>\n        <td>Precluded (drone ship)</td>\n        <td>1</td>\n    </tr>\n</table>"
                    },
                    "metadata": {}
                }
            ]
        },
        {
            "metadata": {},
            "id": "48ad1afc-59f0-47a6-ae2e-7b6ff90999dc",
            "cell_type": "markdown",
            "source": "### Reference Links\n\n* <a href =\"https://cf-courses-data.s3.us.cloud-object-storage.appdomain.cloud/IBMDeveloperSkillsNetwork-DB0201EN-SkillsNetwork/labs/Labs_Coursera_V5/labs/Lab%20-%20String%20Patterns%20-%20Sorting%20-%20Grouping/instructional-labs.md.html?origin=www.coursera.org\">Hands-on Lab : String Patterns, Sorting and Grouping</a>  \n\n*  <a  href=\"https://cf-courses-data.s3.us.cloud-object-storage.appdomain.cloud/IBMDeveloperSkillsNetwork-DB0201EN-SkillsNetwork/labs/Labs_Coursera_V5/labs/Lab%20-%20Built-in%20functions%20/Hands-on_Lab__Built-in_Functions.md.html?origin=www.coursera.org\">Hands-on Lab: Built-in functions</a>\n\n*  <a  href=\"https://cf-courses-data.s3.us.cloud-object-storage.appdomain.cloud/IBMDeveloperSkillsNetwork-DB0201EN-SkillsNetwork/labs/Labs_Coursera_V5/labs/Lab%20-%20Sub-queries%20and%20Nested%20SELECTs%20/instructional-labs.md.html?origin=www.coursera.org\">Hands-on Lab : Sub-queries and Nested SELECT Statements</a>\n\n*   <a href=\"https://cf-courses-data.s3.us.cloud-object-storage.appdomain.cloud/IBMDeveloperSkillsNetwork-DB0201EN-SkillsNetwork/labs/Module%205/DB0201EN-Week3-1-3-SQLmagic.ipynb\">Hands-on Tutorial: Accessing Databases with SQL magic</a>\n\n*  <a href= \"https://cf-courses-data.s3.us.cloud-object-storage.appdomain.cloud/IBMDeveloperSkillsNetwork-DB0201EN-SkillsNetwork/labs/Module%205/DB0201EN-Week3-1-4-Analyzing.ipynb\">Hands-on Lab: Analyzing a real World Data Set</a>\n\n\n"
        },
        {
            "metadata": {},
            "id": "ec1c809f-d209-41d5-8b22-76f7cd59bb53",
            "cell_type": "markdown",
            "source": "## Author(s)\n\n<h4> Lakshmi Holla </h4>\n"
        },
        {
            "metadata": {},
            "id": "bce3d843-e6cc-49de-a788-a31a3de09872",
            "cell_type": "markdown",
            "source": "## Other Contributors\n\n<h4> Rav Ahuja </h4>\n"
        },
        {
            "metadata": {},
            "id": "2a98a3d8-e49d-496a-bc70-e7f473580c66",
            "cell_type": "markdown",
            "source": "## Change log\n| Date | Version | Changed by | Change Description |\n|------|--------|--------|---------|\n| 2021-07-09 | 0.2 |Lakshmi Holla | Changes made in magic sql|\n| 2021-05-20 | 0.1 |Lakshmi Holla | Created Initial Version |\n"
        },
        {
            "metadata": {},
            "id": "76a7ca44-fa0a-45b7-a6bd-a8a4f0df1eec",
            "cell_type": "markdown",
            "source": "## <h3 align=\"center\"> \u00a9 IBM Corporation 2021. All rights reserved. <h3/>\n"
        }
    ],
    "metadata": {
        "kernelspec": {
            "name": "python3",
            "display_name": "Python 3.10",
            "language": "python"
        },
        "language_info": {
            "name": "python",
            "version": "3.10.9",
            "mimetype": "text/x-python",
            "codemirror_mode": {
                "name": "ipython",
                "version": 3
            },
            "pygments_lexer": "ipython3",
            "nbconvert_exporter": "python",
            "file_extension": ".py"
        }
    },
    "nbformat": 4,
    "nbformat_minor": 4
}